{
  "nbformat": 4,
  "nbformat_minor": 0,
  "metadata": {
    "colab": {
      "provenance": [],
      "gpuType": "V28",
      "toc_visible": true,
      "include_colab_link": true
    },
    "kernelspec": {
      "name": "python3",
      "display_name": "Python 3"
    },
    "language_info": {
      "name": "python"
    },
    "accelerator": "TPU"
  },
  "cells": [
    {
      "cell_type": "markdown",
      "metadata": {
        "id": "view-in-github",
        "colab_type": "text"
      },
      "source": [
        "<a href=\"https://colab.research.google.com/github/Kdacones94/TensorFlow-Image-Recognition-ML-Pipeline/blob/main/ML_Image_Classification_and_Identity_Detection_at_the_Network_Edge_(1).ipynb\" target=\"_parent\"><img src=\"https://colab.research.google.com/assets/colab-badge.svg\" alt=\"Open In Colab\"/></a>"
      ]
    },
    {
      "cell_type": "markdown",
      "source": [
        "# ML Image Classification and Identity Detection at the Network Edge (1):\n",
        "> Preliminary Research and Data Dictionary\n",
        "\n"
      ],
      "metadata": {
        "id": "2Eqv6_YPqvVx"
      }
    },
    {
      "cell_type": "markdown",
      "source": [
        "## Data Sources\n",
        "\n",
        "### Sources Quick Nav\n",
        "\n",
        "| Name | Link | Data Descriptions |\n",
        "| :---:   |     :---:      |   :---: |\n",
        "|  CelebA-Spoof Image Dataset  |  [Link to Google Drive with the file downloads](https://drive.google.com/drive/folders/1OW_1bawO79pRqdVEVmBzp8HSxdSwln_Z)   |  A large scale dataset of faces of people with quantity and also diversity in the shots.  |\n",
        "|    Dataset 2   |   lorem    |  ipsum  |\n",
        "\n",
        "\n",
        "#### Source 1: CelebA-Spoof Image Dataset\n",
        "\n",
        "\n",
        "CelebA-Spoof is a large-scale face anti-spoofing dataset with the following properties\n",
        "\n",
        "- ***Quantity:***  CelebA-Spoof comprises of __625,537__ pictures of __10,177__ subjects, significantly larger than the existing datasets.\n",
        "\n",
        "- ***Diversity***: The spoof images are captured from __8__ scenes (__2__ environments * __4__ illumination conditions) with more than __10__ sensors.\n",
        "\n",
        "- ***Annotation Richness:*** CelebA-Spoof contains __10__ spoof type annotations, as well as the __40__ attribute annotations inherited from the original CelebA dataset.\n",
        "\n",
        "---"
      ],
      "metadata": {
        "id": "Y31oz-KOw1OA"
      }
    },
    {
      "cell_type": "markdown",
      "source": [],
      "metadata": {
        "id": "Z9wZgu3_xfn_"
      }
    },
    {
      "cell_type": "markdown",
      "source": [
        "## Data Dictionary/ Explor"
      ],
      "metadata": {
        "id": "iH0A9tnHxg2R"
      }
    },
    {
      "cell_type": "markdown",
      "source": [],
      "metadata": {
        "id": "6kqp-MhKok_w"
      }
    },
    {
      "cell_type": "code",
      "execution_count": null,
      "metadata": {
        "id": "gSxNM6kdEkUY"
      },
      "outputs": [],
      "source": [
        "# Import the packages that arent included TenforFlow\n",
        "\n",
        "import tensorflow as tf\n",
        "from tensorflow import keras\n",
        "import matplotlib.pyplot as plt\n",
        "import numpy as np\n",
        "import pandas as pd\n",
        "import os"
      ]
    },
    {
      "cell_type": "code",
      "source": [
        "!"
      ],
      "metadata": {
        "id": "rxcLQ9aJ0xDl"
      },
      "execution_count": null,
      "outputs": []
    },
    {
      "cell_type": "code",
      "source": [],
      "metadata": {
        "id": "EggInZgsvJ9K"
      },
      "execution_count": null,
      "outputs": []
    }
  ]
}